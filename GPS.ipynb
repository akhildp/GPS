{
 "cells": [
  {
   "cell_type": "code",
   "execution_count": 76,
   "metadata": {},
   "outputs": [],
   "source": [
    "import math\n",
    "\n",
    "def get_angle(lat_diff, long_diff):\n",
    "    inv_angle = math.atan(long_diff/lat_diff)\n",
    "    if lat_diff > 0 and long_diff > 0: angle=inv_angle\n",
    "    elif long_diff < 0: angle=inv_angle+math.pi\n",
    "    else: angle=inv_angle+(2*math.pi)\n",
    "    return angle\n",
    "\n",
    "def get_direction(lat1,long1,lat2,long2):\n",
    "    lat_d, long_d = (lat2-lat1),(long2-long1)\n",
    "    angle = get_angle(lat_d, long_d)\n",
    "    idx = math.floor(angle*8/math.pi) #I'm a Mathematician\n",
    "    dir_list = ['E', 'ENE', 'NE', 'NNE', \n",
    "                'N', 'NNW', 'NW', 'WNW', \n",
    "                'W', 'WSW', 'SW', 'SSW', \n",
    "                'S', 'SSE', 'SE','ESE',\n",
    "                'E']\n",
    "    return dir_list[idx+1]"
   ]
  },
  {
   "cell_type": "code",
   "execution_count": 77,
   "metadata": {},
   "outputs": [
    {
     "data": {
      "text/plain": [
       "'NW'"
      ]
     },
     "execution_count": 77,
     "metadata": {},
     "output_type": "execute_result"
    }
   ],
   "source": [
    "get_direction(40.391617, -111.850769, 64.835365, -147.776749)"
   ]
  }
 ],
 "metadata": {
  "kernelspec": {
   "display_name": "Python 3",
   "language": "python",
   "name": "python3"
  },
  "language_info": {
   "codemirror_mode": {
    "name": "ipython",
    "version": 3
   },
   "file_extension": ".py",
   "mimetype": "text/x-python",
   "name": "python",
   "nbconvert_exporter": "python",
   "pygments_lexer": "ipython3",
   "version": "3.6.4"
  }
 },
 "nbformat": 4,
 "nbformat_minor": 2
}
