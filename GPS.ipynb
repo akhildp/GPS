{
 "cells": [
  {
   "cell_type": "code",
   "execution_count": 68,
   "metadata": {},
   "outputs": [],
   "source": [
    "import math\n",
    "\n",
    "def get_angle(lat_diff, long_diff):\n",
    "    inv_angle = math.degrees(math.atan(long_diff/lat_diff))\n",
    "    if lat_diff > 0 and long_diff > 0: angle=inv_angle\n",
    "    elif long_diff < 0: angle=inv_angle+180\n",
    "    else: angle=inv_angle+360\n",
    "    return angle\n",
    "\n",
    "def get_direction(lat1,long1,lat2,long2):\n",
    "    lat_d, long_d = (lat2-lat1),(long2-long1)\n",
    "    angle = get_angle(lat_d, long_d)\n",
    "    angle_list = [0,22.5,45,67.5,90,112.5,135,157.5,180,202.5,225,247.5,270,292.5,315,337.5,360]\n",
    "    dir_list = ['E', 'ENE', 'NE', 'NNE', 'N', 'NNW', 'NW', 'WNW', 'W', 'WSW', 'SW', 'SSW', 'S', 'SSE', 'SE','ESE','E']\n",
    "    for (idx, val) in enumerate(angle_list):\n",
    "        if abs(angle-val) < 11.25: \n",
    "            break\n",
    "        else: continue\n",
    "    return dir_list[idx]"
   ]
  },
  {
   "cell_type": "code",
   "execution_count": 69,
   "metadata": {},
   "outputs": [
    {
     "data": {
      "text/plain": [
       "'NW'"
      ]
     },
     "execution_count": 69,
     "metadata": {},
     "output_type": "execute_result"
    }
   ],
   "source": [
    "get_direction(40.391617, -111.850769, 64.835365, -147.776749)"
   ]
  }
 ],
 "metadata": {
  "kernelspec": {
   "display_name": "Python 3",
   "language": "python",
   "name": "python3"
  },
  "language_info": {
   "codemirror_mode": {
    "name": "ipython",
    "version": 3
   },
   "file_extension": ".py",
   "mimetype": "text/x-python",
   "name": "python",
   "nbconvert_exporter": "python",
   "pygments_lexer": "ipython3",
   "version": "3.6.4"
  }
 },
 "nbformat": 4,
 "nbformat_minor": 2
}
